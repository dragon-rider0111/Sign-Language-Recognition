{
  "nbformat": 4,
  "nbformat_minor": 0,
  "metadata": {
    "colab": {
      "name": "ASLwithCNN.ipynb",
      "version": "0.3.2",
      "provenance": [],
      "include_colab_link": true
    },
    "kernelspec": {
      "name": "python3",
      "display_name": "Python 3"
    },
    "accelerator": "GPU"
  },
  "cells": [
    {
      "cell_type": "markdown",
      "metadata": {
        "id": "view-in-github",
        "colab_type": "text"
      },
      "source": [
        "<a href=\"https://colab.research.google.com/github/Arshad221b/Sign-Language-Recognition-/blob/CNN/ASLwithCNN.ipynb\" target=\"_parent\"><img src=\"https://colab.research.google.com/assets/colab-badge.svg\" alt=\"Open In Colab\"/></a>"
      ]
    },
    {
      "metadata": {
        "id": "VdNgPyvDWEUS",
        "colab_type": "code",
        "colab": {}
      },
      "cell_type": "code",
      "source": [
        "import keras\n",
        "import numpy as np\n",
        "import pandas as pd\n",
        "import cv2\n",
        "from matplotlib import pyplot as plt\n",
        "from keras.models import Sequential \n",
        "from keras.layers import Conv2D,MaxPooling2D, Dense,Flatten\n",
        "from keras.datasets import mnist \n",
        "import matplotlib.pyplot as plt\n",
        "from keras.utils import np_utils\n",
        "from keras.optimizers import SGD"
      ],
      "execution_count": 0,
      "outputs": []
    },
    {
      "metadata": {
        "id": "GlR1JOKvWHsH",
        "colab_type": "code",
        "colab": {
          "base_uri": "https://localhost:8080/",
          "height": 403
        },
        "outputId": "051e6f51-5a88-43a3-c13f-f255791a0239"
      },
      "cell_type": "code",
      "source": [
        "!pip install PyDrive"
      ],
      "execution_count": 3,
      "outputs": [
        {
          "output_type": "stream",
          "text": [
            "Collecting PyDrive\n",
            "\u001b[?25l  Downloading https://files.pythonhosted.org/packages/52/e0/0e64788e5dd58ce2d6934549676243dc69d982f198524be9b99e9c2a4fd5/PyDrive-1.3.1.tar.gz (987kB)\n",
            "\u001b[K    100% |████████████████████████████████| 993kB 14.8MB/s \n",
            "\u001b[?25hRequirement already satisfied: google-api-python-client>=1.2 in /usr/local/lib/python3.6/dist-packages (from PyDrive) (1.6.7)\n",
            "Requirement already satisfied: oauth2client>=4.0.0 in /usr/local/lib/python3.6/dist-packages (from PyDrive) (4.1.3)\n",
            "Requirement already satisfied: PyYAML>=3.0 in /usr/local/lib/python3.6/dist-packages (from PyDrive) (3.13)\n",
            "Requirement already satisfied: httplib2<1dev,>=0.9.2 in /usr/local/lib/python3.6/dist-packages (from google-api-python-client>=1.2->PyDrive) (0.11.3)\n",
            "Requirement already satisfied: uritemplate<4dev,>=3.0.0 in /usr/local/lib/python3.6/dist-packages (from google-api-python-client>=1.2->PyDrive) (3.0.0)\n",
            "Requirement already satisfied: six<2dev,>=1.6.1 in /usr/local/lib/python3.6/dist-packages (from google-api-python-client>=1.2->PyDrive) (1.11.0)\n",
            "Requirement already satisfied: pyasn1>=0.1.7 in /usr/local/lib/python3.6/dist-packages (from oauth2client>=4.0.0->PyDrive) (0.4.5)\n",
            "Requirement already satisfied: rsa>=3.1.4 in /usr/local/lib/python3.6/dist-packages (from oauth2client>=4.0.0->PyDrive) (4.0)\n",
            "Requirement already satisfied: pyasn1-modules>=0.0.5 in /usr/local/lib/python3.6/dist-packages (from oauth2client>=4.0.0->PyDrive) (0.2.4)\n",
            "Building wheels for collected packages: PyDrive\n",
            "  Building wheel for PyDrive (setup.py) ... \u001b[?25ldone\n",
            "\u001b[?25h  Stored in directory: /root/.cache/pip/wheels/fa/d2/9a/d3b6b506c2da98289e5d417215ce34b696db856643bad779f4\n",
            "Successfully built PyDrive\n",
            "Installing collected packages: PyDrive\n",
            "Successfully installed PyDrive-1.3.1\n"
          ],
          "name": "stdout"
        }
      ]
    },
    {
      "metadata": {
        "id": "HNnnwPjXWRuf",
        "colab_type": "code",
        "colab": {}
      },
      "cell_type": "code",
      "source": [
        "import os\n",
        "from pydrive.auth import GoogleAuth\n",
        "from pydrive.drive import GoogleDrive\n",
        "from google.colab import auth\n",
        "from oauth2client.client import GoogleCredentials"
      ],
      "execution_count": 0,
      "outputs": []
    },
    {
      "metadata": {
        "id": "9LqcRmtLWbtW",
        "colab_type": "code",
        "colab": {}
      },
      "cell_type": "code",
      "source": [
        "auth.authenticate_user()\n",
        "gauth = GoogleAuth()\n",
        "gauth.credentials = GoogleCredentials.get_application_default()\n",
        "drive = GoogleDrive(gauth)"
      ],
      "execution_count": 0,
      "outputs": []
    },
    {
      "metadata": {
        "id": "cbSWnRL-Weng",
        "colab_type": "code",
        "colab": {}
      },
      "cell_type": "code",
      "source": [
        "download = drive.CreateFile({'id': '1wG0gS-bqjV6yz1YveuxkvHT5_2DOuT05'})\n",
        "download.GetContentFile('train.csv')\n",
        "train = pd.read_csv('train.csv')"
      ],
      "execution_count": 0,
      "outputs": []
    },
    {
      "metadata": {
        "id": "xLgX8B76Wpz4",
        "colab_type": "code",
        "colab": {}
      },
      "cell_type": "code",
      "source": [
        "download = drive.CreateFile({'id': '1q_Zwlu3RncjKq1YpiVtkiMPxIIueGRYB'})\n",
        "download.GetContentFile('test.csv')\n",
        "test = pd.read_csv('test.csv')"
      ],
      "execution_count": 0,
      "outputs": []
    },
    {
      "metadata": {
        "id": "APs14-zkaRwl",
        "colab_type": "code",
        "colab": {}
      },
      "cell_type": "code",
      "source": [
        "y_train = train['label'].values\n",
        "y_test = test['label'].values\n",
        "\n",
        "X_train = train.drop(['label'],axis=1)\n",
        "X_test = test.drop(['label'], axis=1)\n",
        "\n",
        "X_train = np.array(X_train.iloc[:,:])\n",
        "X_train = np.array([np.reshape(i, (28,28)) for i in X_train])\n",
        "\n",
        "X_test = np.array(X_test.iloc[:,:])\n",
        "X_test = np.array([np.reshape(i, (28,28)) for i in X_test])\n",
        "\n",
        "num_classes = 26\n",
        "y_train = np.array(y_train).reshape(-1)\n",
        "y_test = np.array(y_test).reshape(-1)\n",
        "\n",
        "y_train = np.eye(num_classes)[y_train]\n",
        "y_test = np.eye(num_classes)[y_test]"
      ],
      "execution_count": 0,
      "outputs": []
    },
    {
      "metadata": {
        "id": "VG7bDv9xkS1h",
        "colab_type": "code",
        "colab": {}
      },
      "cell_type": "code",
      "source": [
        "X_train = X_train.reshape((27455, 28, 28, 1))\n",
        "X_test = X_test.reshape((7172, 28, 28, 1))"
      ],
      "execution_count": 0,
      "outputs": []
    },
    {
      "metadata": {
        "id": "pX7X-hS9W1PB",
        "colab_type": "code",
        "colab": {}
      },
      "cell_type": "code",
      "source": [
        "\n",
        "classifier = Sequential()\n",
        "classifier.add(Conv2D(filters=8, kernel_size=(3,3),strides=(1,1),padding='same',input_shape=(28,28,1),activation='relu', data_format='channels_last'))\n",
        "classifier.add(MaxPooling2D(pool_size=(2,2)))\n",
        "classifier.add(Conv2D(filters=16, kernel_size=(3,3),strides=(1,1),padding='same',activation='relu'))\n",
        "classifier.add(MaxPooling2D(pool_size=(4,4)))\n",
        "classifier.add(Flatten())\n",
        "classifier.add(Dense(128, activation='relu'))\n",
        "classifier.add(Dense(128, activation='relu'))\n",
        "\n",
        "classifier.add(Dense(26, activation='softmax'))\n",
        "classifier.compile(optimizer='SGD', loss='categorical_crossentropy', metrics=['accuracy'])"
      ],
      "execution_count": 0,
      "outputs": []
    },
    {
      "metadata": {
        "id": "Y20PZzLxW-eO",
        "colab_type": "code",
        "colab": {
          "base_uri": "https://localhost:8080/",
          "height": 1706
        },
        "outputId": "4b1af40c-5358-4f1a-c31e-71241c2aa67b"
      },
      "cell_type": "code",
      "source": [
        "classifier.compile(loss='categorical_crossentropy', optimizer='adam', metrics=['accuracy'])\n",
        "classifier.fit(X_train, y_train, epochs=50, batch_size=100)\n"
      ],
      "execution_count": 29,
      "outputs": [
        {
          "output_type": "stream",
          "text": [
            "Epoch 1/50\n",
            "27455/27455 [==============================] - 3s 101us/step - loss: 2.9622 - acc: 0.5374\n",
            "Epoch 2/50\n",
            "27455/27455 [==============================] - 2s 84us/step - loss: 0.1277 - acc: 0.9681\n",
            "Epoch 3/50\n",
            "27455/27455 [==============================] - 2s 83us/step - loss: 0.0286 - acc: 0.9956\n",
            "Epoch 4/50\n",
            "27455/27455 [==============================] - 2s 84us/step - loss: 0.0075 - acc: 0.9996\n",
            "Epoch 5/50\n",
            "27455/27455 [==============================] - 2s 84us/step - loss: 0.0038 - acc: 0.9999\n",
            "Epoch 6/50\n",
            "27455/27455 [==============================] - 2s 83us/step - loss: 0.0242 - acc: 0.9921\n",
            "Epoch 7/50\n",
            "27455/27455 [==============================] - 2s 83us/step - loss: 0.0136 - acc: 0.9961\n",
            "Epoch 8/50\n",
            "27455/27455 [==============================] - 2s 84us/step - loss: 0.0139 - acc: 0.9964\n",
            "Epoch 9/50\n",
            "27455/27455 [==============================] - 2s 84us/step - loss: 7.4551e-04 - acc: 1.0000\n",
            "Epoch 10/50\n",
            "27455/27455 [==============================] - 2s 83us/step - loss: 2.9635e-04 - acc: 1.0000\n",
            "Epoch 11/50\n",
            "27455/27455 [==============================] - 2s 84us/step - loss: 2.2396e-04 - acc: 1.0000\n",
            "Epoch 12/50\n",
            "27455/27455 [==============================] - 2s 83us/step - loss: 1.7835e-04 - acc: 1.0000\n",
            "Epoch 13/50\n",
            "27455/27455 [==============================] - 2s 83us/step - loss: 1.4982e-04 - acc: 1.0000\n",
            "Epoch 14/50\n",
            "27455/27455 [==============================] - 2s 83us/step - loss: 1.2348e-04 - acc: 1.0000\n",
            "Epoch 15/50\n",
            "27455/27455 [==============================] - 2s 83us/step - loss: 1.0434e-04 - acc: 1.0000\n",
            "Epoch 16/50\n",
            "27455/27455 [==============================] - 2s 83us/step - loss: 9.0454e-05 - acc: 1.0000\n",
            "Epoch 17/50\n",
            "27455/27455 [==============================] - 2s 83us/step - loss: 7.5768e-05 - acc: 1.0000\n",
            "Epoch 18/50\n",
            "27455/27455 [==============================] - 2s 83us/step - loss: 6.4374e-05 - acc: 1.0000\n",
            "Epoch 19/50\n",
            "27455/27455 [==============================] - 2s 83us/step - loss: 5.6053e-05 - acc: 1.0000\n",
            "Epoch 20/50\n",
            "27455/27455 [==============================] - 2s 83us/step - loss: 4.8431e-05 - acc: 1.0000\n",
            "Epoch 21/50\n",
            "27455/27455 [==============================] - 2s 83us/step - loss: 4.1934e-05 - acc: 1.0000\n",
            "Epoch 22/50\n",
            "27455/27455 [==============================] - 2s 83us/step - loss: 3.5841e-05 - acc: 1.0000\n",
            "Epoch 23/50\n",
            "27455/27455 [==============================] - 2s 83us/step - loss: 3.1879e-05 - acc: 1.0000\n",
            "Epoch 24/50\n",
            "27455/27455 [==============================] - 2s 83us/step - loss: 2.7599e-05 - acc: 1.0000\n",
            "Epoch 25/50\n",
            "27455/27455 [==============================] - 2s 83us/step - loss: 2.3683e-05 - acc: 1.0000\n",
            "Epoch 26/50\n",
            "27455/27455 [==============================] - 2s 83us/step - loss: 2.0772e-05 - acc: 1.0000\n",
            "Epoch 27/50\n",
            "27455/27455 [==============================] - 2s 83us/step - loss: 1.7958e-05 - acc: 1.0000\n",
            "Epoch 28/50\n",
            "27455/27455 [==============================] - 2s 84us/step - loss: 1.5261e-05 - acc: 1.0000\n",
            "Epoch 29/50\n",
            "27455/27455 [==============================] - 2s 84us/step - loss: 1.3118e-05 - acc: 1.0000\n",
            "Epoch 30/50\n",
            "27455/27455 [==============================] - 2s 83us/step - loss: 1.1397e-05 - acc: 1.0000\n",
            "Epoch 31/50\n",
            "27455/27455 [==============================] - 2s 83us/step - loss: 1.0125e-05 - acc: 1.0000\n",
            "Epoch 32/50\n",
            "27455/27455 [==============================] - 2s 82us/step - loss: 8.7114e-06 - acc: 1.0000\n",
            "Epoch 33/50\n",
            "27455/27455 [==============================] - 2s 83us/step - loss: 7.1802e-06 - acc: 1.0000\n",
            "Epoch 34/50\n",
            "27455/27455 [==============================] - 2s 83us/step - loss: 6.3181e-06 - acc: 1.0000\n",
            "Epoch 35/50\n",
            "27455/27455 [==============================] - 2s 83us/step - loss: 5.3577e-06 - acc: 1.0000\n",
            "Epoch 36/50\n",
            "27455/27455 [==============================] - 2s 83us/step - loss: 4.7263e-06 - acc: 1.0000\n",
            "Epoch 37/50\n",
            "27455/27455 [==============================] - 2s 83us/step - loss: 4.0224e-06 - acc: 1.0000\n",
            "Epoch 38/50\n",
            "27455/27455 [==============================] - 2s 82us/step - loss: 3.6552e-06 - acc: 1.0000\n",
            "Epoch 39/50\n",
            "27455/27455 [==============================] - 2s 83us/step - loss: 3.0426e-06 - acc: 1.0000\n",
            "Epoch 40/50\n",
            "27455/27455 [==============================] - 2s 83us/step - loss: 2.5703e-06 - acc: 1.0000\n",
            "Epoch 41/50\n",
            "27455/27455 [==============================] - 2s 82us/step - loss: 2.2960e-06 - acc: 1.0000\n",
            "Epoch 42/50\n",
            "27455/27455 [==============================] - 2s 86us/step - loss: 1.9594e-06 - acc: 1.0000\n",
            "Epoch 43/50\n",
            "27455/27455 [==============================] - 2s 82us/step - loss: 1.7931e-06 - acc: 1.0000\n",
            "Epoch 44/50\n",
            "27455/27455 [==============================] - 2s 82us/step - loss: 1.4104e-06 - acc: 1.0000\n",
            "Epoch 45/50\n",
            "27455/27455 [==============================] - 2s 82us/step - loss: 1.3461e-06 - acc: 1.0000\n",
            "Epoch 46/50\n",
            "27455/27455 [==============================] - 2s 82us/step - loss: 1.0846e-06 - acc: 1.0000\n",
            "Epoch 47/50\n",
            "27455/27455 [==============================] - 2s 83us/step - loss: 9.2446e-07 - acc: 1.0000\n",
            "Epoch 48/50\n",
            "27455/27455 [==============================] - 2s 83us/step - loss: 7.9866e-07 - acc: 1.0000\n",
            "Epoch 49/50\n",
            "27455/27455 [==============================] - 2s 83us/step - loss: 7.0156e-07 - acc: 1.0000\n",
            "Epoch 50/50\n",
            "27455/27455 [==============================] - 2s 82us/step - loss: 6.3231e-07 - acc: 1.0000\n"
          ],
          "name": "stdout"
        },
        {
          "output_type": "execute_result",
          "data": {
            "text/plain": [
              "<keras.callbacks.History at 0x7fc054b8c128>"
            ]
          },
          "metadata": {
            "tags": []
          },
          "execution_count": 29
        }
      ]
    },
    {
      "metadata": {
        "id": "Q9dEumbZckZ1",
        "colab_type": "code",
        "colab": {
          "base_uri": "https://localhost:8080/",
          "height": 74
        },
        "outputId": "f00d6b58-29bd-4bc4-ded6-0c5818580f0a"
      },
      "cell_type": "code",
      "source": [
        "accuracy = classifier.evaluate(x=X_test,y=y_test,batch_size=32)\n",
        "print(\"Accuracy: \",accuracy[1])"
      ],
      "execution_count": 30,
      "outputs": [
        {
          "output_type": "stream",
          "text": [
            "7172/7172 [==============================] - 1s 90us/step\n",
            "Accuracy:  0.831846068042387\n"
          ],
          "name": "stdout"
        }
      ]
    },
    {
      "metadata": {
        "id": "Y3ugo3XtmKoZ",
        "colab_type": "code",
        "colab": {
          "base_uri": "https://localhost:8080/",
          "height": 439
        },
        "outputId": "5450f38d-da3e-4575-d4be-ca90554b5f0c"
      },
      "cell_type": "code",
      "source": [
        "classifier.summary()"
      ],
      "execution_count": 31,
      "outputs": [
        {
          "output_type": "stream",
          "text": [
            "_________________________________________________________________\n",
            "Layer (type)                 Output Shape              Param #   \n",
            "=================================================================\n",
            "conv2d_11 (Conv2D)           (None, 28, 28, 8)         80        \n",
            "_________________________________________________________________\n",
            "max_pooling2d_11 (MaxPooling (None, 14, 14, 8)         0         \n",
            "_________________________________________________________________\n",
            "conv2d_12 (Conv2D)           (None, 14, 14, 16)        1168      \n",
            "_________________________________________________________________\n",
            "max_pooling2d_12 (MaxPooling (None, 3, 3, 16)          0         \n",
            "_________________________________________________________________\n",
            "flatten_6 (Flatten)          (None, 144)               0         \n",
            "_________________________________________________________________\n",
            "dense_13 (Dense)             (None, 128)               18560     \n",
            "_________________________________________________________________\n",
            "dense_14 (Dense)             (None, 128)               16512     \n",
            "_________________________________________________________________\n",
            "dense_15 (Dense)             (None, 26)                3354      \n",
            "=================================================================\n",
            "Total params: 39,674\n",
            "Trainable params: 39,674\n",
            "Non-trainable params: 0\n",
            "_________________________________________________________________\n"
          ],
          "name": "stdout"
        }
      ]
    },
    {
      "metadata": {
        "id": "-r9GxkiFRyl7",
        "colab_type": "code",
        "colab": {}
      },
      "cell_type": "code",
      "source": [
        "from keras.utils.vis_utils import plot_model"
      ],
      "execution_count": 0,
      "outputs": []
    },
    {
      "metadata": {
        "id": "8UGALrzbR4i2",
        "colab_type": "code",
        "colab": {}
      },
      "cell_type": "code",
      "source": [
        "plot_model(classifier, to_file='model_plot.png', show_shapes=True, show_layer_names=True)"
      ],
      "execution_count": 0,
      "outputs": []
    },
    {
      "metadata": {
        "id": "JTikifp6R9h9",
        "colab_type": "code",
        "colab": {
          "base_uri": "https://localhost:8080/",
          "height": 366
        },
        "outputId": "e13b584b-9bbf-4c24-933a-a4d0bc529a0d"
      },
      "cell_type": "code",
      "source": [
        "!apt install graphviz\n",
        "!pip install pydot pydot-ng\n",
        "!echo \"Double check with Python 3\"\n",
        "!python -c \"import pydot\""
      ],
      "execution_count": 35,
      "outputs": [
        {
          "output_type": "stream",
          "text": [
            "Reading package lists... Done\n",
            "Building dependency tree       \n",
            "Reading state information... Done\n",
            "graphviz is already the newest version (2.40.1-2).\n",
            "0 upgraded, 0 newly installed, 0 to remove and 10 not upgraded.\n",
            "Requirement already satisfied: pydot in /usr/local/lib/python3.6/dist-packages (1.3.0)\n",
            "Requirement already satisfied: pydot-ng in /usr/local/lib/python3.6/dist-packages (2.0.0)\n",
            "Requirement already satisfied: pyparsing>=2.1.4 in /usr/local/lib/python3.6/dist-packages (from pydot) (2.3.1)\n",
            "Double check with Python 3\n"
          ],
          "name": "stdout"
        }
      ]
    },
    {
      "metadata": {
        "id": "T1b-rpZ0SH61",
        "colab_type": "code",
        "colab": {
          "base_uri": "https://localhost:8080/",
          "height": 529
        },
        "outputId": "26233e18-1ee0-4891-fc9f-e2ef9b0d774f"
      },
      "cell_type": "code",
      "source": [
        "plot_model(classifier, show_shapes=True, show_layer_names=True, to_file='model.png')\n",
        "from IPython.display import Image\n",
        "Image(retina=True, filename='model.png')"
      ],
      "execution_count": 36,
      "outputs": [
        {
          "output_type": "execute_result",
          "data": {
            "image/png": "[encoded data removed]",
            "text/plain": [
              "<IPython.core.display.Image object>"
            ]
          },
          "metadata": {
            "tags": [],
            "image/png": {
              "width": 280,
              "height": 472
            }
          },
          "execution_count": 36
        }
      ]
    },
    {
      "metadata": {
        "id": "yRpbDys4TH5U",
        "colab_type": "code",
        "colab": {
          "base_uri": "https://localhost:8080/",
          "height": 94
        },
        "outputId": "c612d001-1b69-4cae-c717-962f441db798"
      },
      "cell_type": "code",
      "source": [
        "classifier.save('CNNmodel.h5')\n",
        "weights_file = drive.CreateFile({'title' : 'CNNmodel.h5'})\n",
        "weights_file.SetContentFile('CNNmodel.h5')\n",
        "weights_file.Upload()\n",
        "drive.CreateFile({'id': weights_file.get('id')})"
      ],
      "execution_count": 38,
      "outputs": [
        {
          "output_type": "execute_result",
          "data": {
            "text/plain": [
              "GoogleDriveFile({'id': '10ni-9CkGiX5sou1O2V3apW82Hl2Dcsfq'})"
            ]
          },
          "metadata": {
            "tags": []
          },
          "execution_count": 38
        }
      ]
    },
    {
      "metadata": {
        "id": "XeEDOSACyGLG",
        "colab_type": "code",
        "colab": {}
      },
      "cell_type": "code",
      "source": [
        ""
      ],
      "execution_count": 0,
      "outputs": []
    }
  ]
}